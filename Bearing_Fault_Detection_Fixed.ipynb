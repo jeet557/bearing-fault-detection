{
 "cells": [
  {
   "cell_type": "markdown",
   "id": "1b33b08f",
   "metadata": {},
   "source": [
    "# Bearing Fault Detection – Intel AI for Manufacturing Project\n",
    "This notebook demonstrates preprocessing, feature extraction, model training, and evaluation using the CWRU dataset."
   ]
  },
  {
   "cell_type": "code",
   "execution_count": null,
   "id": "20659130",
   "metadata": {},
   "outputs": [],
   "source": [
    "# Required Libraries\n",
    "import pandas as pd\n",
    "import numpy as np\n",
    "from sklearn.model_selection import train_test_split\n",
    "from sklearn.ensemble import RandomForestClassifier\n",
    "from sklearn.metrics import classification_report, confusion_matrix, accuracy_score"
   ]
  },
  {
   "cell_type": "code",
   "execution_count": null,
   "id": "aa4dbc54",
   "metadata": {},
   "outputs": [],
   "source": [
    "# Dummy dataset creation (replace with actual feature-extracted dataset)\n",
    "# Simulating a dataset with 5 features and 3 classes\n",
    "np.random.seed(42)\n",
    "X = pd.DataFrame(np.random.rand(300, 5), columns=['RMS', 'STD', 'Skew', 'Kurtosis', 'CrestFactor'])\n",
    "y = np.random.choice(['Normal', 'Inner Race Fault', 'Outer Race Fault'], 300)\n",
    "X['label'] = y\n",
    "X.head()"
   ]
  },
  {
   "cell_type": "code",
   "execution_count": null,
   "id": "cdb14531",
   "metadata": {},
   "outputs": [],
   "source": [
    "# Splitting the data\n",
    "features = X.drop('label', axis=1)\n",
    "labels = X['label']\n",
    "X_train, X_test, y_train, y_test = train_test_split(features, labels, test_size=0.2, random_state=42)"
   ]
  },
  {
   "cell_type": "code",
   "execution_count": null,
   "id": "e50b533f",
   "metadata": {},
   "outputs": [],
   "source": [
    "# Training the model\n",
    "model = RandomForestClassifier(n_estimators=100, random_state=42)\n",
    "model.fit(X_train, y_train)\n",
    "y_pred = model.predict(X_test)"
   ]
  },
  {
   "cell_type": "code",
   "execution_count": null,
   "id": "f632c828",
   "metadata": {},
   "outputs": [],
   "source": [
    "# Evaluation\n",
    "print(\"Accuracy:\", accuracy_score(y_test, y_pred))\n",
    "print(\"\\nClassification Report:\\n\", classification_report(y_test, y_pred))\n",
    "print(\"\\nConfusion Matrix:\\n\", confusion_matrix(y_test, y_pred))"
   ]
  }
 ],
 "metadata": {},
 "nbformat": 4,
 "nbformat_minor": 5
}